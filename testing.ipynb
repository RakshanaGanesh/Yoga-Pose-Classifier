{
 "cells": [
  {
   "cell_type": "code",
   "execution_count": 6,
   "id": "7cadd0db-8929-41fd-8cea-3254ccfc4ef8",
   "metadata": {},
   "outputs": [],
   "source": [
    "import cv2\n",
    "import numpy as np\n",
    "import mediapipe as mp\n",
    "from keras.models import load_model\n",
    "import time\n",
    "import csv"
   ]
  },
  {
   "cell_type": "code",
   "execution_count": 7,
   "id": "44ecadd0-9e4c-4e06-884c-0e5096b7c715",
   "metadata": {},
   "outputs": [],
   "source": [
    "def inFrame(lst):\n",
    "    if lst[28].visibility > 0.7 and lst[27].visibility > 0. and lst[15].visibility > 0.7 and lst[16].visibility > 0.7:\n",
    "        return True\n",
    "    return False\n",
    "\n",
    "model = load_model(\"model.h5\")\n",
    "label = np.load(\"labels.npy\")"
   ]
  },
  {
   "cell_type": "code",
   "execution_count": 8,
   "id": "16145f61-70cc-44e6-b031-661b0ee35748",
   "metadata": {},
   "outputs": [],
   "source": [
    "holistic = mp.solutions.pose\n",
    "holis = holistic.Pose()\n",
    "drawing = mp.solutions.drawing_utils\n",
    "\n",
    "cap = cv2.VideoCapture(0)"
   ]
  },
  {
   "cell_type": "code",
   "execution_count": 9,
   "id": "56ad611e-615f-4929-8b95-fadeb8691014",
   "metadata": {},
   "outputs": [
    {
     "name": "stdin",
     "output_type": "stream",
     "text": [
      "Enter the desired yoga pose for classification:  tree\n"
     ]
    }
   ],
   "source": [
    "# Ask the user to input the desired yoga pose\n",
    "desired_pose = input(\"Enter the desired yoga pose for classification: \")\n",
    "\n",
    "pose_start_time = None\n",
    "pose_data = []"
   ]
  },
  {
   "cell_type": "code",
   "execution_count": null,
   "id": "f11473a3-49a6-4a5c-8509-19800612e002",
   "metadata": {},
   "outputs": [],
   "source": [
    "while True:\n",
    "    lst = []\n",
    "    _, frm = cap.read()\n",
    "    frm = cv2.flip(frm, 1)\n",
    "    frm = cv2.blur(frm, (4, 4))\n",
    "\n",
    "    res = holis.process(cv2.cvtColor(frm, cv2.COLOR_BGR2RGB))\n",
    "\n",
    "    if res.pose_landmarks and inFrame(res.pose_landmarks.landmark):\n",
    "        for i in res.pose_landmarks.landmark:\n",
    "            lst.append(i.x - res.pose_landmarks.landmark[0].x)\n",
    "            lst.append(i.y - res.pose_landmarks.landmark[0].y)\n",
    "\n",
    "        lst = np.array(lst).reshape(1, -1)\n",
    "\n",
    "        p = model.predict(lst)\n",
    "        pred = label[np.argmax(p)]\n",
    "\n",
    "        if p[0][np.argmax(p)] >= 0.98 and pred == desired_pose:\n",
    "            if pose_start_time is None:\n",
    "                pose_start_time = time.time()\n",
    "                cv2.putText(frm, f\"Correct Pose: {pred}\", (180, 180), cv2.FONT_ITALIC, 1.3, (0, 255, 0), 2)\n",
    "            else:\n",
    "                pose_duration = time.time() - pose_start_time\n",
    "                cv2.putText(frm, f\"Correct Pose: {pred} | Duration: {pose_duration:.2f} seconds\", (180, 180), cv2.FONT_ITALIC, 1.3, (0, 255, 0), 2)\n",
    "        elif p[0][np.argmax(p)] >= 0.98:\n",
    "            cv2.putText(frm, f\"Incorrect Pose: {pred}\", (100, 180), cv2.FONT_ITALIC, 1.8, (0, 0, 255), 3)\n",
    "            if pose_start_time is not None:\n",
    "                # Save data to pose_data list\n",
    "                pose_data.append({\"Pose\": pred, \"Duration\": pose_duration, \"Date\": time.strftime(\"%Y-%m-%d %H:%M:%S\")})\n",
    "                pose_start_time = None  # Reset the timer if the pose is incorrect\n",
    "        else:\n",
    "            cv2.putText(frm, \"Asana is either wrong or not trained\", (100, 180), cv2.FONT_ITALIC, 1.8, (0, 0, 255), 3)\n",
    "            pose_start_time = None  # Reset the timer if the pose is not confidently detected\n",
    "    else:\n",
    "        cv2.putText(frm, \"Make Sure Full body is visible\", (100, 450), cv2.FONT_HERSHEY_SIMPLEX, 0.8, (0, 0, 255), 3)\n",
    "        if pose_start_time is not None:\n",
    "            # Save data to pose_data list\n",
    "            pose_data.append({\"Pose\": \"Unknown\", \"Duration\": pose_duration, \"Date\": time.strftime(\"%Y-%m-%d %H:%M:%S\")})\n",
    "            pose_start_time = None  # Reset the timer if the full body is not visible\n",
    "\n",
    "    drawing.draw_landmarks(frm, res.pose_landmarks, holistic.POSE_CONNECTIONS,\n",
    "                           connection_drawing_spec=drawing.DrawingSpec(color=(255, 255, 255), thickness=6),\n",
    "                           landmark_drawing_spec=drawing.DrawingSpec(color=(0, 0, 255), circle_radius=3, thickness=3))\n",
    "\n",
    "    cv2.imshow(\"Yoga Pose Classification\", frm)\n",
    "\n",
    "    if cv2.waitKey(1) == 27:\n",
    "        # Save the data to a CSV file\n",
    "        with open(\"pose_data.csv\", \"w\", newline=\"\") as csvfile:\n",
    "            fieldnames = [\"Pose\", \"Duration\", \"Date\"]\n",
    "            writer = csv.DictWriter(csvfile, fieldnames=fieldnames)\n",
    "\n",
    "            # Write the header\n",
    "            writer.writeheader()\n",
    "\n",
    "            # Write the data\n",
    "            for pose_entry in pose_data:\n",
    "                writer.writerow(pose_entry)\n",
    "\n",
    "        cv2.destroyAllWindows()\n",
    "        cap.release()\n",
    "        break"
   ]
  }
 ],
 "metadata": {
  "kernelspec": {
   "display_name": "Python 3 (ipykernel)",
   "language": "python",
   "name": "python3"
  },
  "language_info": {
   "codemirror_mode": {
    "name": "ipython",
    "version": 3
   },
   "file_extension": ".py",
   "mimetype": "text/x-python",
   "name": "python",
   "nbconvert_exporter": "python",
   "pygments_lexer": "ipython3",
   "version": "3.10.10"
  }
 },
 "nbformat": 4,
 "nbformat_minor": 5
}
